{
 "cells": [
  {
   "cell_type": "markdown",
   "metadata": {
    "colab_type": "text",
    "id": "WnE3I7XzG2J0"
   },
   "source": [
    "QUESTION 1\n",
    "\n",
    "Load the trips table into a dataframe.\n",
    "\n",
    "Make 4 extra columns from the start_date column (We will use these in later questions):\n",
    "\n",
    "month would contain only the month component\n",
    "dayofweek would indicate what day of the week the date is\n",
    "date would contain only the date component\n",
    "hour would only contain the hour component"
   ]
  },
  {
   "cell_type": "markdown",
   "metadata": {
    "colab_type": "text",
    "id": "aYBwZrV1G_jo"
   },
   "source": [
    "Load the trips table into a dataframe."
   ]
  },
  {
   "cell_type": "code",
   "execution_count": 0,
   "metadata": {
    "colab": {},
    "colab_type": "code",
    "id": "lTxfajyLM9A-"
   },
   "outputs": [],
   "source": [
    "import pandas as pd\n",
    "\n",
    "trips = pd.read_csv('trip.csv')"
   ]
  },
  {
   "cell_type": "markdown",
   "metadata": {
    "colab_type": "text",
    "id": "luRf8Y4aHEmm"
   },
   "source": [
    "Preview the data"
   ]
  },
  {
   "cell_type": "code",
   "execution_count": 4,
   "metadata": {
    "colab": {
     "base_uri": "https://localhost:8080/",
     "height": 299
    },
    "colab_type": "code",
    "id": "BuVbHoiGdTkI",
    "outputId": "343c8301-93cf-46d6-ea56-99b6b360a6b5"
   },
   "outputs": [
    {
     "data": {
      "text/html": [
       "<div>\n",
       "<style scoped>\n",
       "    .dataframe tbody tr th:only-of-type {\n",
       "        vertical-align: middle;\n",
       "    }\n",
       "\n",
       "    .dataframe tbody tr th {\n",
       "        vertical-align: top;\n",
       "    }\n",
       "\n",
       "    .dataframe thead th {\n",
       "        text-align: right;\n",
       "    }\n",
       "</style>\n",
       "<table border=\"1\" class=\"dataframe\">\n",
       "  <thead>\n",
       "    <tr style=\"text-align: right;\">\n",
       "      <th></th>\n",
       "      <th>id</th>\n",
       "      <th>duration</th>\n",
       "      <th>start_date</th>\n",
       "      <th>start_station_name</th>\n",
       "      <th>start_station_id</th>\n",
       "      <th>end_date</th>\n",
       "      <th>end_station_name</th>\n",
       "      <th>end_station_id</th>\n",
       "      <th>bike_id</th>\n",
       "      <th>subscription_type</th>\n",
       "      <th>zip_code</th>\n",
       "    </tr>\n",
       "  </thead>\n",
       "  <tbody>\n",
       "    <tr>\n",
       "      <th>0</th>\n",
       "      <td>4576</td>\n",
       "      <td>63</td>\n",
       "      <td>8/29/2013 14:13</td>\n",
       "      <td>South Van Ness at Market</td>\n",
       "      <td>66</td>\n",
       "      <td>8/29/2013 14:14</td>\n",
       "      <td>South Van Ness at Market</td>\n",
       "      <td>66</td>\n",
       "      <td>520</td>\n",
       "      <td>Subscriber</td>\n",
       "      <td>94127</td>\n",
       "    </tr>\n",
       "    <tr>\n",
       "      <th>1</th>\n",
       "      <td>4607</td>\n",
       "      <td>70</td>\n",
       "      <td>8/29/2013 14:42</td>\n",
       "      <td>San Jose City Hall</td>\n",
       "      <td>10</td>\n",
       "      <td>8/29/2013 14:43</td>\n",
       "      <td>San Jose City Hall</td>\n",
       "      <td>10</td>\n",
       "      <td>661</td>\n",
       "      <td>Subscriber</td>\n",
       "      <td>95138</td>\n",
       "    </tr>\n",
       "    <tr>\n",
       "      <th>2</th>\n",
       "      <td>4130</td>\n",
       "      <td>71</td>\n",
       "      <td>8/29/2013 10:16</td>\n",
       "      <td>Mountain View City Hall</td>\n",
       "      <td>27</td>\n",
       "      <td>8/29/2013 10:17</td>\n",
       "      <td>Mountain View City Hall</td>\n",
       "      <td>27</td>\n",
       "      <td>48</td>\n",
       "      <td>Subscriber</td>\n",
       "      <td>97214</td>\n",
       "    </tr>\n",
       "    <tr>\n",
       "      <th>3</th>\n",
       "      <td>4251</td>\n",
       "      <td>77</td>\n",
       "      <td>8/29/2013 11:29</td>\n",
       "      <td>San Jose City Hall</td>\n",
       "      <td>10</td>\n",
       "      <td>8/29/2013 11:30</td>\n",
       "      <td>San Jose City Hall</td>\n",
       "      <td>10</td>\n",
       "      <td>26</td>\n",
       "      <td>Subscriber</td>\n",
       "      <td>95060</td>\n",
       "    </tr>\n",
       "    <tr>\n",
       "      <th>4</th>\n",
       "      <td>4299</td>\n",
       "      <td>83</td>\n",
       "      <td>8/29/2013 12:02</td>\n",
       "      <td>South Van Ness at Market</td>\n",
       "      <td>66</td>\n",
       "      <td>8/29/2013 12:04</td>\n",
       "      <td>Market at 10th</td>\n",
       "      <td>67</td>\n",
       "      <td>319</td>\n",
       "      <td>Subscriber</td>\n",
       "      <td>94103</td>\n",
       "    </tr>\n",
       "  </tbody>\n",
       "</table>\n",
       "</div>"
      ],
      "text/plain": [
       "     id  duration       start_date  ... bike_id  subscription_type zip_code\n",
       "0  4576        63  8/29/2013 14:13  ...     520         Subscriber    94127\n",
       "1  4607        70  8/29/2013 14:42  ...     661         Subscriber    95138\n",
       "2  4130        71  8/29/2013 10:16  ...      48         Subscriber    97214\n",
       "3  4251        77  8/29/2013 11:29  ...      26         Subscriber    95060\n",
       "4  4299        83  8/29/2013 12:02  ...     319         Subscriber    94103\n",
       "\n",
       "[5 rows x 11 columns]"
      ]
     },
     "execution_count": 4,
     "metadata": {
      "tags": []
     },
     "output_type": "execute_result"
    }
   ],
   "source": [
    "trips.head()"
   ]
  },
  {
   "cell_type": "code",
   "execution_count": 5,
   "metadata": {
    "colab": {
     "base_uri": "https://localhost:8080/",
     "height": 34
    },
    "colab_type": "code",
    "id": "EDmRgKpJErLI",
    "outputId": "d1bf8d9d-342a-4ac2-f515-f3802dfc89d4"
   },
   "outputs": [
    {
     "data": {
      "text/plain": [
       "dtype('O')"
      ]
     },
     "execution_count": 5,
     "metadata": {
      "tags": []
     },
     "output_type": "execute_result"
    }
   ],
   "source": [
    "trips['start_date'].dtype"
   ]
  },
  {
   "cell_type": "markdown",
   "metadata": {
    "colab_type": "text",
    "id": "Y47aHNsBHLgY"
   },
   "source": [
    "Convert the start_date column to a datetime to make creating the new columns easier"
   ]
  },
  {
   "cell_type": "markdown",
   "metadata": {
    "colab": {},
    "colab_type": "code",
    "id": "SA_HbVo6EwN4"
   },
   "source": [
    "trips['start_date'] = pd.to_datetime(trips['start_date'])"
   ]
  },
  {
   "cell_type": "markdown",
   "metadata": {
    "colab_type": "text",
    "id": "ueC42UavHUqC"
   },
   "source": [
    "Make 4 extra columns from the start_date column (We will use these in later questions):\n",
    "\n",
    "month would contain only the month component\n",
    "dayofweek would indicate what day of the week the date is\n",
    "date would contain only the date component\n",
    "hour would only contain the hour component"
   ]
  },
  {
   "cell_type": "code",
   "execution_count": 0,
   "metadata": {
    "colab": {},
    "colab_type": "code",
    "id": "wbLZS1tedVBD"
   },
   "outputs": [],
   "source": [
    "trips['month'] = trips['start_date'].dt.month\n",
    "trips['dayofweek'] = trips['start_date'].dt.dayofweek\n",
    "trips['date'] = trips['start_date'].dt.date\n",
    "trips['hour'] = trips['start_date'].dt.hour"
   ]
  },
  {
   "cell_type": "markdown",
   "metadata": {
    "colab_type": "text",
    "id": "EUl67GNoHiyr"
   },
   "source": [
    "QUESTION 2\n",
    "\n",
    "Group the bike rides by month and count the number of users per month. Plot the number of users for each month. What do you observe? Provide a likely explanation to your observation. Real life data can often be messy/incomplete and cursory EDA is often able to reveal that.\n",
    "*italicized text*"
   ]
  },
  {
   "cell_type": "code",
   "execution_count": 0,
   "metadata": {
    "colab": {},
    "colab_type": "code",
    "id": "AcDZjVAhHgPH"
   },
   "outputs": [],
   "source": [
    "#Creating new table to count users per month\n",
    "users_per_m = trips[['month','id']].groupby('month').count()\n",
    "#Changing the 'id' label to make the chart more clear\n",
    "users_per_m.rename(columns={'id':'user_count'},inplace=True)"
   ]
  },
  {
   "cell_type": "code",
   "execution_count": 12,
   "metadata": {
    "colab": {
     "base_uri": "https://localhost:8080/",
     "height": 300
    },
    "colab_type": "code",
    "id": "2a4ZHVGYIfNl",
    "outputId": "0f33ce07-7e27-4205-8d41-be44b22fd19b"
   },
   "outputs": [
    {
     "data": {
      "text/plain": [
       "<matplotlib.axes._subplots.AxesSubplot at 0x7f82c7251e48>"
      ]
     },
     "execution_count": 12,
     "metadata": {
      "tags": []
     },
     "output_type": "execute_result"
    },
    {
     "data": {
      "image/png": "[encoded data removed]",
      "text/plain": [
       "<Figure size 432x288 with 1 Axes>"
      ]
     },
     "metadata": {
      "tags": []
     },
     "output_type": "display_data"
    }
   ],
   "source": [
    "users_per_m.plot()"
   ]
  },
  {
   "cell_type": "markdown",
   "metadata": {
    "colab_type": "text",
    "id": "QmkcK3l-cXq3"
   },
   "source": [
    "Based on the plot, there are generally more users during the warmer months. This makes sense because people typically prefer being exposed to the outdoor climate when it is warmer. The only exception is in October when there is a spike after the user count dipped in September. This may have been caused by something specific to the area such as Fall festivals or something similar and would need further investigation."
   ]
  },
  {
   "cell_type": "markdown",
   "metadata": {
    "colab_type": "text",
    "id": "FlJx__rydtu5"
   },
   "source": [
    "QUESTION 3\n",
    "\n",
    "Plot the daily user count from September to December. Mark the mean and mean +/- 1.5 * Standard Deviation as horizontal lines on the plot. This would help you identify the outliers in your data. Describe your observations.\n",
    "\n"
   ]
  },
  {
   "cell_type": "code",
   "execution_count": 0,
   "metadata": {
    "colab": {},
    "colab_type": "code",
    "id": "oaUen4JOmQ4V"
   },
   "outputs": [],
   "source": [
    "#modify the datatype to datetime to make easier to work with\n",
    "trips['date']=pd.to_datetime(trips['date'])"
   ]
  },
  {
   "cell_type": "code",
   "execution_count": 0,
   "metadata": {
    "colab": {},
    "colab_type": "code",
    "id": "TsEXVdAT8eae"
   },
   "outputs": [],
   "source": [
    "#create new dataframe to group users by date(or day) to get user count per day\n",
    "u_by_d = trips[['date','id']].groupby('date').count()\n",
    "u_by_d.rename(columns={'id':'user_count'},inplace=True)\n",
    "\n",
    "#create new dataframe with daily user counts in september through december\n",
    "sept_to_dec = u_by_d['2013-09-01':'2013-12-31']\n",
    "\n",
    "s_d_mean = sept_to_dec['user_count'].mean()\n",
    "s_d_std = sept_to_dec['user_count'].std()"
   ]
  },
  {
   "cell_type": "code",
   "execution_count": 15,
   "metadata": {
    "colab": {
     "base_uri": "https://localhost:8080/",
     "height": 311
    },
    "colab_type": "code",
    "id": "Vva1wjFZeoqM",
    "outputId": "86a9ce7e-6b66-4a86-f036-8eaf82ad6fd5"
   },
   "outputs": [
    {
     "data": {
      "text/plain": [
       "<matplotlib.lines.Line2D at 0x7f82bfbf71d0>"
      ]
     },
     "execution_count": 15,
     "metadata": {
      "tags": []
     },
     "output_type": "execute_result"
    },
    {
     "data": {
      "image/png": "[encoded data removed]",
      "text/plain": [
       "<Figure size 432x288 with 1 Axes>"
      ]
     },
     "metadata": {
      "tags": []
     },
     "output_type": "display_data"
    }
   ],
   "source": [
    "s_d_plt = sept_to_dec.plot()\n",
    "#add mean and standard deviation bounds to chart\n",
    "s_d_plt.axhline(y=s_d_mean)\n",
    "s_d_plt.axhline(y=s_d_mean+(s_d_std*1.5),linestyle='--')\n",
    "s_d_plt.axhline(y=s_d_mean-(s_d_std*1.5),linestyle='--')"
   ]
  },
  {
   "cell_type": "markdown",
   "metadata": {
    "colab_type": "text",
    "id": "vZ6M7hrtF0EZ"
   },
   "source": [
    "The plot of the daily number of users for September through December reveals a couple of interesting observations. The first is that the data has a weekly pattern. There are five days of high usage followed by two days of relatively low usage, which would seem to indicate that there is high usuage during the work week and lower usage on the weekends. This would have to be confirmed with more investigation. The other item worth noting, is that when looking at multiple months at a time, the low points in December all dip below the 1.5 standard deviations from the mean. This would indicate they are outliers, but in reality those data points likely depict a typical December weekend. With this understanding, it may make more sense to look at individual months when trying to determine outliers.\n",
    "It is always worth noting that there is an outlier on the high end in September. This may have happened for a number of reasons including particulary nice weather, a popular even that drew in more people than normal, or even a traffic jam that led people to use bikes that would otherwise have driven."
   ]
  },
  {
   "cell_type": "markdown",
   "metadata": {
    "colab_type": "text",
    "id": "xer_WxK8Hw2p"
   },
   "source": [
    "QUESTION 4\n",
    "\n",
    "Plot the distribution of the daily user counts for all months as a histogram. Comment on the distribution you see and explain why the distribution might be shaped as such."
   ]
  },
  {
   "cell_type": "code",
   "execution_count": 16,
   "metadata": {
    "colab": {
     "base_uri": "https://localhost:8080/",
     "height": 286
    },
    "colab_type": "code",
    "id": "Fup4CzEPfUz6",
    "outputId": "7d1f35db-04d4-4d7b-a7b9-00c1f36322a8"
   },
   "outputs": [
    {
     "data": {
      "text/plain": [
       "<matplotlib.axes._subplots.AxesSubplot at 0x7f82bfc540b8>"
      ]
     },
     "execution_count": 16,
     "metadata": {
      "tags": []
     },
     "output_type": "execute_result"
    },
    {
     "data": {
      "image/png": "[encoded data removed]",
      "text/plain": [
       "<Figure size 432x288 with 1 Axes>"
      ]
     },
     "metadata": {
      "tags": []
     },
     "output_type": "display_data"
    }
   ],
   "source": [
    "u_by_d.plot(kind='hist')"
   ]
  },
  {
   "cell_type": "markdown",
   "metadata": {
    "colab_type": "text",
    "id": "SNJioVTKJoiw"
   },
   "source": [
    "This histigram is showing a bimodal dataset. One explanation could be that the two peaks are the seasonal modes. The lower of the peaks is the typical number of users during the cooler months, and the higher of the peaks is the typical number of users during the warmer months."
   ]
  },
  {
   "cell_type": "markdown",
   "metadata": {
    "colab_type": "text",
    "id": "F5IJUwyOKa8V"
   },
   "source": [
    "QUESTION 5\n",
    "\n",
    "Now we are going to explore hourly trends of user activity. Group the bike rides by date and hour and count the number of rides in the given hour on the given date. Make a boxplot of the hours in the day (x) against the number of users (y) in that given hour."
   ]
  },
  {
   "cell_type": "code",
   "execution_count": 0,
   "metadata": {
    "colab": {},
    "colab_type": "code",
    "id": "t2L-qobiIUTl"
   },
   "outputs": [],
   "source": [
    "hour_group = trips[['date','hour','id']].groupby(['date','hour']).count()"
   ]
  },
  {
   "cell_type": "code",
   "execution_count": 18,
   "metadata": {
    "colab": {
     "base_uri": "https://localhost:8080/",
     "height": 225
    },
    "colab_type": "code",
    "id": "6qGS4iXIMCMc",
    "outputId": "1c2bac30-1dae-405e-a50d-af19ac68992c"
   },
   "outputs": [
    {
     "data": {
      "text/html": [
       "<div>\n",
       "<style scoped>\n",
       "    .dataframe tbody tr th:only-of-type {\n",
       "        vertical-align: middle;\n",
       "    }\n",
       "\n",
       "    .dataframe tbody tr th {\n",
       "        vertical-align: top;\n",
       "    }\n",
       "\n",
       "    .dataframe thead th {\n",
       "        text-align: right;\n",
       "    }\n",
       "</style>\n",
       "<table border=\"1\" class=\"dataframe\">\n",
       "  <thead>\n",
       "    <tr style=\"text-align: right;\">\n",
       "      <th></th>\n",
       "      <th></th>\n",
       "      <th>id</th>\n",
       "    </tr>\n",
       "    <tr>\n",
       "      <th>date</th>\n",
       "      <th>hour</th>\n",
       "      <th></th>\n",
       "    </tr>\n",
       "  </thead>\n",
       "  <tbody>\n",
       "    <tr>\n",
       "      <th rowspan=\"5\" valign=\"top\">2013-08-29</th>\n",
       "      <th>9</th>\n",
       "      <td>12</td>\n",
       "    </tr>\n",
       "    <tr>\n",
       "      <th>10</th>\n",
       "      <td>14</td>\n",
       "    </tr>\n",
       "    <tr>\n",
       "      <th>11</th>\n",
       "      <td>42</td>\n",
       "    </tr>\n",
       "    <tr>\n",
       "      <th>12</th>\n",
       "      <td>120</td>\n",
       "    </tr>\n",
       "    <tr>\n",
       "      <th>13</th>\n",
       "      <td>87</td>\n",
       "    </tr>\n",
       "  </tbody>\n",
       "</table>\n",
       "</div>"
      ],
      "text/plain": [
       "                  id\n",
       "date       hour     \n",
       "2013-08-29 9      12\n",
       "           10     14\n",
       "           11     42\n",
       "           12    120\n",
       "           13     87"
      ]
     },
     "execution_count": 18,
     "metadata": {
      "tags": []
     },
     "output_type": "execute_result"
    }
   ],
   "source": [
    "hour_group.head()"
   ]
  },
  {
   "cell_type": "code",
   "execution_count": 19,
   "metadata": {
    "colab": {
     "base_uri": "https://localhost:8080/",
     "height": 318
    },
    "colab_type": "code",
    "id": "HLxPAShfMLN3",
    "outputId": "3e5ffbe3-b4aa-4f2a-a212-4d7fa1f30759"
   },
   "outputs": [
    {
     "data": {
      "text/plain": [
       "<matplotlib.axes._subplots.AxesSubplot at 0x7f82bfb9e278>"
      ]
     },
     "execution_count": 19,
     "metadata": {
      "tags": []
     },
     "output_type": "execute_result"
    },
    {
     "data": {
      "image/png": "[encoded data removed]",
      "text/plain": [
       "<Figure size 432x288 with 1 Axes>"
      ]
     },
     "metadata": {
      "tags": []
     },
     "output_type": "display_data"
    }
   ],
   "source": [
    "hour_group.reset_index(level=1).boxplot(column='id',by='hour')"
   ]
  },
  {
   "cell_type": "markdown",
   "metadata": {
    "colab_type": "text",
    "id": "y_UGlMw0SMM-"
   },
   "source": [
    "QUESTION 6\n",
    "\n",
    "Someone from the analytics team made a line plot (right) that he claims is showing the same information as your boxplot (left). What information can you gain from the boxplot that is missing in the line plot?"
   ]
  },
  {
   "cell_type": "markdown",
   "metadata": {
    "colab_type": "text",
    "id": "40iWGrYNSPX4"
   },
   "source": [
    "The box plot includes information regarding the spread of the data for each of the hours, while the line plot does not. The box plot includes information regarding the quartiles as well as outliers."
   ]
  },
  {
   "cell_type": "markdown",
   "metadata": {
    "colab_type": "text",
    "id": "2_lkQtBXS4TO"
   },
   "source": [
    "QUESTION 7\n",
    "\n",
    "** Extra Credit **: Replot the boxplot in 6. after binning your data into weekday and weekend. Describe the differences you observe between hour user activity between weekday and weekend?"
   ]
  },
  {
   "cell_type": "code",
   "execution_count": 0,
   "metadata": {
    "colab": {},
    "colab_type": "code",
    "id": "qFIgJg0mjzYh"
   },
   "outputs": [],
   "source": [
    "trips['wkday'] = trips['dayofweek'] < 5"
   ]
  },
  {
   "cell_type": "code",
   "execution_count": 0,
   "metadata": {
    "colab": {},
    "colab_type": "code",
    "id": "Z9Cc2-GaaZZY"
   },
   "outputs": [],
   "source": [
    "trips_wkday = trips[trips['wkday']==True]\n",
    "hour_group_wkday = trips_wkday[['date','hour','id']].groupby(['date','hour']).count()\n",
    "\n",
    "trips_wknd = trips[trips['wkday']==False]\n",
    "hour_group_wknd = trips_wknd[['date','hour','id']].groupby(['date','hour']).count()"
   ]
  },
  {
   "cell_type": "code",
   "execution_count": 92,
   "metadata": {
    "colab": {
     "base_uri": "https://localhost:8080/",
     "height": 588
    },
    "colab_type": "code",
    "id": "6eiGiIR3l7tD",
    "outputId": "2605fa83-caf6-402e-f63c-fce151ea72c7"
   },
   "outputs": [
    {
     "data": {
      "text/plain": [
       "Text(0.5, 0.98, '')"
      ]
     },
     "execution_count": 92,
     "metadata": {
      "tags": []
     },
     "output_type": "execute_result"
    },
    {
     "data": {
      "image/png": "[encoded data removed]",
      "text/plain": [
       "<Figure size 432x288 with 1 Axes>"
      ]
     },
     "metadata": {
      "tags": []
     },
     "output_type": "display_data"
    },
    {
     "data": {
      "image/png": "[encoded data removed]",
      "text/plain": [
       "<Figure size 432x288 with 1 Axes>"
      ]
     },
     "metadata": {
      "tags": []
     },
     "output_type": "display_data"
    }
   ],
   "source": [
    "import matplotlib.pyplot as plt\n",
    "\n",
    "#boxplot for weekdays\n",
    "hg_wkday_plt = hour_group_wkday.boxplot(column='id',by='hour')\n",
    "plt.title(label='Weekday Hourly User Counts')\n",
    "plt.suptitle('')\n",
    "#boxplot for weekends\n",
    "hg_wknd_plt = hour_group_wknd.boxplot(column='id',by='hour')\n",
    "plt.title(label='Weekend Hourly User Counts')\n",
    "plt.suptitle('')"
   ]
  },
  {
   "cell_type": "markdown",
   "metadata": {
    "colab_type": "text",
    "id": "WcmUVedItJno"
   },
   "source": [
    "Distinct differences are noticed when comparing weekday vs weekend hourly counts of bike users. The hourly count of users during the week tends to follow traffic patterns. The data is bimodal with peaks in the morning and evening. This is likely because users are using the bikes to travel to and from work.\n",
    "On the weekend, the data is more bimodal and the peak is much more gradual. The user count increases in the morning and levels off during the day before tailing off again in the evening. This is likely because users are not working and do not have as defined a schedule on the weekends."
   ]
  }
 ],
 "metadata": {
  "colab": {
   "collapsed_sections": [],
   "name": "DSCI6002_Lab2_AA_R1.ipynb",
   "provenance": []
  },
  "kernelspec": {
   "display_name": "Python 3",
   "language": "python",
   "name": "python3"
  },
  "language_info": {
   "codemirror_mode": {
    "name": "ipython",
    "version": 3
   },
   "file_extension": ".py",
   "mimetype": "text/x-python",
   "name": "python",
   "nbconvert_exporter": "python",
   "pygments_lexer": "ipython3",
   "version": "3.7.4"
  }
 },
 "nbformat": 4,
 "nbformat_minor": 1
}

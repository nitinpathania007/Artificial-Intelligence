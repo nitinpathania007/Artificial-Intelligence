{
 "cells": [
  {
   "cell_type": "markdown",
   "metadata": {
    "colab_type": "text",
    "id": "uIRb-VwbE1y6"
   },
   "source": [
    "# Lab 1.3: Exploratory Data Analysis (EDA) with Pandas\n",
    "\n",
    "## Outline\n",
    "\n",
    "* Introduction to Pandas\n",
    "* EDA using Pandas\n",
    "\n",
    "Exploratory data analysis is a first crucial step to building predictive models from your data. EDA allows you\n",
    "to confirm or invalidate some of the assumptions you are making about your data and understand relationships between your variables."
   ]
  },
  {
   "cell_type": "markdown",
   "metadata": {
    "colab_type": "text",
    "id": "Jc393dftE1y7"
   },
   "source": [
    "## Getting Started with [Pandas](http://pandas.pydata.org/pandas-docs/version/0.17.1/)\n",
    "\n",
    "### What is Pandas?\n",
    "A Python library providing data structures and data analysis tools.\n",
    "\n",
    "### Huh?\n",
    "Think of it like Excel for Python but better."
   ]
  },
  {
   "cell_type": "code",
   "execution_count": 8,
   "metadata": {
    "colab": {},
    "colab_type": "code",
    "id": "drmWlNlLE1y7"
   },
   "outputs": [
    {
     "name": "stdout",
     "output_type": "stream",
     "text": [
      "Requirement already satisfied: pandas in c:\\users\\vbehzadan\\appdata\\local\\programs\\python\\python37\\lib\\site-packages (0.25.1)\n",
      "Requirement already satisfied: python-dateutil>=2.6.1 in c:\\users\\vbehzadan\\appdata\\local\\programs\\python\\python37\\lib\\site-packages (from pandas) (2.8.0)\n",
      "Requirement already satisfied: pytz>=2017.2 in c:\\users\\vbehzadan\\appdata\\local\\programs\\python\\python37\\lib\\site-packages (from pandas) (2019.2)\n",
      "Requirement already satisfied: numpy>=1.13.3 in c:\\users\\vbehzadan\\appdata\\local\\programs\\python\\python37\\lib\\site-packages (from pandas) (1.17.2)\n",
      "Requirement already satisfied: six>=1.5 in c:\\users\\vbehzadan\\appdata\\local\\programs\\python\\python37\\lib\\site-packages (from python-dateutil>=2.6.1->pandas) (1.12.0)\n"
     ]
    },
    {
     "name": "stderr",
     "output_type": "stream",
     "text": [
      "You are using pip version 19.0.3, however version 19.2.3 is available.\n",
      "You should consider upgrading via the 'python -m pip install --upgrade pip' command.\n"
     ]
    }
   ],
   "source": [
    "!pip install pandas\n",
    "#By convention import pandas like:\n",
    "import pandas as pd"
   ]
  },
  {
   "cell_type": "code",
   "execution_count": 9,
   "metadata": {
    "colab": {},
    "colab_type": "code",
    "id": "9Zcpo47pE1y9"
   },
   "outputs": [],
   "source": [
    "#For fake data.\n",
    "from numpy.random import randn\n",
    "import numpy as np"
   ]
  },
  {
   "cell_type": "markdown",
   "metadata": {
    "colab_type": "text",
    "id": "DvOl5GckE1y_"
   },
   "source": [
    "## Series\n",
    "Think of a Pandas Series as a _labeled_ one-dimensional vector. In fact, it need not be a numeric vector, it can contain arbitrary python objects."
   ]
  },
  {
   "cell_type": "code",
   "execution_count": 4,
   "metadata": {
    "colab": {},
    "colab_type": "code",
    "id": "NlsCdajfE1y_"
   },
   "outputs": [
    {
     "data": {
      "text/plain": [
       "0    0\n",
       "1    1\n",
       "2    2\n",
       "3    3\n",
       "4    4\n",
       "dtype: int64"
      ]
     },
     "execution_count": 4,
     "metadata": {},
     "output_type": "execute_result"
    }
   ],
   "source": [
    "int_series = pd.Series(range(10))\n",
    "int_series.head()"
   ]
  },
  {
   "cell_type": "code",
   "execution_count": 5,
   "metadata": {
    "colab": {},
    "colab_type": "code",
    "id": "l7p8PdZJE1zC"
   },
   "outputs": [
    {
     "data": {
      "text/plain": [
       "0    1.351505\n",
       "1    1.029232\n",
       "2   -0.671339\n",
       "3    1.497215\n",
       "4   -0.313911\n",
       "dtype: float64"
      ]
     },
     "execution_count": 5,
     "metadata": {},
     "output_type": "execute_result"
    }
   ],
   "source": [
    "num_series = pd.Series(randn(10))\n",
    "num_series.head()"
   ]
  },
  {
   "cell_type": "code",
   "execution_count": 6,
   "metadata": {
    "colab": {},
    "colab_type": "code",
    "id": "bBByqmw_E1zD"
   },
   "outputs": [
    {
     "data": {
      "text/plain": [
       "0    a\n",
       "1    b\n",
       "2    c\n",
       "3    d\n",
       "4    e\n",
       "dtype: object"
      ]
     },
     "execution_count": 6,
     "metadata": {},
     "output_type": "execute_result"
    }
   ],
   "source": [
    "str_series = pd.Series([x for x in 'abcde'*2])\n",
    "str_series.head()"
   ]
  },
  {
   "cell_type": "markdown",
   "metadata": {
    "colab_type": "text",
    "id": "-_8cIdI0E1zF"
   },
   "source": [
    "## Indexes\n",
    "Notice how each series has an index (in this case a relatively meaningless default index).\n",
    "\n",
    "Pandas can make great use of informative indexes. Indexes work similarly to a dictionary key, allowing fast lookups of the data associated with the index.\n",
    "\n",
    "Indexes can also be exploited for fast group-bys, merges, time-series operations and lots more.\n",
    "\n",
    "When you're really in the zone with pandas, you'll be thinking a lot about indexes."
   ]
  },
  {
   "cell_type": "code",
   "execution_count": 0,
   "metadata": {
    "colab": {},
    "colab_type": "code",
    "id": "T5ijlDiAE1zG"
   },
   "outputs": [],
   "source": [
    "indexed_series = pd.Series(randn(5), \n",
    "                           index = ['California', 'Alabama', \n",
    "                                    'Indiana', 'Montana', \n",
    "                                    'Kentucky'])\n",
    "alt_indexed_series = pd.Series(randn(5),\n",
    "                               index = ['Washington', 'Alabama', \n",
    "                                        'Montana', 'Indiana', \n",
    "                                        'New York'])\n",
    "print (indexed_series)\n",
    "print ('\\n')\n",
    "print (alt_indexed_series)"
   ]
  },
  {
   "cell_type": "code",
   "execution_count": 0,
   "metadata": {
    "colab": {},
    "colab_type": "code",
    "id": "5ZBnnBcoE1zH"
   },
   "outputs": [],
   "source": [
    "#Pandas uses the index by default to align series for arithmetic!\n",
    "indexed_series + alt_indexed_series"
   ]
  },
  {
   "cell_type": "code",
   "execution_count": 0,
   "metadata": {
    "colab": {},
    "colab_type": "code",
    "id": "Xjbr2GqIE1zJ"
   },
   "outputs": [],
   "source": [
    "indexed_series = pd.Series(randn(5*10), \n",
    "                           index = ['California', 'Alabama', \n",
    "                                    'Indiana', 'Montana', \n",
    "                                    'Kentucky']*10)\n",
    "#If you have non-unique indexes, you can use them \n",
    "#to do groupby operations.\n",
    "indexed_series.groupby(level=0).mean()"
   ]
  },
  {
   "cell_type": "code",
   "execution_count": 0,
   "metadata": {
    "colab": {},
    "colab_type": "code",
    "id": "toP0tBhDE1zL"
   },
   "outputs": [],
   "source": [
    "#Datetime index\n",
    "dt_index = pd.date_range('2015-1-1', \n",
    "                        '2015-11-1', \n",
    "                        freq='m')\n",
    "dt_series = pd.Series(randn(10), \n",
    "                      index = dt_index)\n",
    "dt_series"
   ]
  },
  {
   "cell_type": "code",
   "execution_count": 0,
   "metadata": {
    "colab": {},
    "colab_type": "code",
    "id": "323OWUqNE1zO"
   },
   "outputs": [],
   "source": [
    "#Datetime indexes make it easy to transform freqs etc!\n",
    "dt_series.resample('q').mean()"
   ]
  },
  {
   "cell_type": "markdown",
   "metadata": {
    "colab_type": "text",
    "id": "XGMGf8EzE1zQ"
   },
   "source": [
    "## DataFrames\n",
    "Data frames extend the concept of Series to table-like data."
   ]
  },
  {
   "cell_type": "code",
   "execution_count": 0,
   "metadata": {
    "colab": {},
    "colab_type": "code",
    "id": "GRPvhzHWE1zQ"
   },
   "outputs": [],
   "source": [
    "df = pd.DataFrame(randn(10, 5), index=dt_index, columns=[x for x in 'abcde'])\n",
    "df"
   ]
  },
  {
   "cell_type": "code",
   "execution_count": 0,
   "metadata": {
    "colab": {},
    "colab_type": "code",
    "id": "FxVpDZhlE1zT"
   },
   "outputs": [],
   "source": [
    "#A dataframes columns are series:\n",
    "col = df.a\n",
    "type(col)"
   ]
  },
  {
   "cell_type": "code",
   "execution_count": 0,
   "metadata": {
    "colab": {},
    "colab_type": "code",
    "id": "O0woMOAVE1zV"
   },
   "outputs": [],
   "source": [
    "#So are the rows.\n",
    "row = df.ix['2015-01-31']\n",
    "type(row)"
   ]
  },
  {
   "cell_type": "code",
   "execution_count": 0,
   "metadata": {
    "colab": {},
    "colab_type": "code",
    "id": "u-DcrQCME1zX"
   },
   "outputs": [],
   "source": [
    "#The columns all have the same index:\n",
    "col.index   "
   ]
  },
  {
   "cell_type": "code",
   "execution_count": 0,
   "metadata": {
    "colab": {},
    "colab_type": "code",
    "id": "XfV48utDE1zY"
   },
   "outputs": [],
   "source": [
    "#What's the index for the rows?\n",
    "row.index"
   ]
  },
  {
   "cell_type": "markdown",
   "metadata": {
    "colab_type": "text",
    "id": "2rPLHyTXE1za"
   },
   "source": [
    "## DataFrame basics"
   ]
  },
  {
   "cell_type": "code",
   "execution_count": 0,
   "metadata": {
    "colab": {},
    "colab_type": "code",
    "id": "fQYoK50uE1za"
   },
   "outputs": [],
   "source": [
    "#New column\n",
    "df['new'] = df['a'] + df['b']\n",
    "df"
   ]
  },
  {
   "cell_type": "code",
   "execution_count": 0,
   "metadata": {
    "colab": {},
    "colab_type": "code",
    "id": "JB7th3i5E1zc"
   },
   "outputs": [],
   "source": [
    "#Delete a column\n",
    "df.drop('new', axis=1)"
   ]
  },
  {
   "cell_type": "markdown",
   "metadata": {
    "colab_type": "text",
    "id": "V4Jb8Td2E1zd"
   },
   "source": [
    "## Axis?\n",
    "Because pandas thinks of rows and columns as both being series, anything we can do to rows we can do to columns too. \n",
    "\n",
    "Axis describes which one we want to do it to. 0=rows, 1=columns."
   ]
  },
  {
   "cell_type": "code",
   "execution_count": 0,
   "metadata": {
    "colab": {},
    "colab_type": "code",
    "id": "LCQbAO1xE1ze"
   },
   "outputs": [],
   "source": [
    "lbl = pd.Timestamp('2015-04-30 00:00:00', offset='M')\n",
    "df.drop(lbl, axis=0)"
   ]
  },
  {
   "cell_type": "markdown",
   "metadata": {
    "colab_type": "text",
    "id": "yQA4ttC-E1zh"
   },
   "source": [
    "## Selecting subsets\n",
    "There a couple of ways to select a subset of a python data frame."
   ]
  },
  {
   "cell_type": "code",
   "execution_count": 0,
   "metadata": {
    "colab": {},
    "colab_type": "code",
    "id": "SvLUM0gLE1zh"
   },
   "outputs": [],
   "source": [
    "#To subset the rows, you can use the convenient:\n",
    "df[df.a > 0]"
   ]
  },
  {
   "cell_type": "code",
   "execution_count": 0,
   "metadata": {
    "colab": {},
    "colab_type": "code",
    "id": "5M9qqwtBE1zm"
   },
   "outputs": [],
   "source": [
    "#Or combine multiple conditions:\n",
    "df[(df.a > 0) & (df.c < 0)]"
   ]
  },
  {
   "cell_type": "code",
   "execution_count": 0,
   "metadata": {
    "colab": {},
    "colab_type": "code",
    "id": "ldfO1HHwE1zo"
   },
   "outputs": [],
   "source": [
    "#Selecting a column\n",
    "df.a\n",
    "#Works sometimes."
   ]
  },
  {
   "cell_type": "code",
   "execution_count": 0,
   "metadata": {
    "colab": {},
    "colab_type": "code",
    "id": "HDKGQZNsE1zp"
   },
   "outputs": [],
   "source": [
    "df['a'] #works always"
   ]
  },
  {
   "cell_type": "code",
   "execution_count": 0,
   "metadata": {
    "colab": {},
    "colab_type": "code",
    "id": "wqdvgZt4E1zr"
   },
   "outputs": [],
   "source": [
    "df[['a', 'b']]\n",
    "#Or a subset of columns"
   ]
  },
  {
   "cell_type": "markdown",
   "metadata": {
    "colab_type": "text",
    "id": "Q9hZOkQXE1zs"
   },
   "source": [
    "## Advanced selection\n",
    "The above methods work for simple types of selections, but what if you need something more complex?"
   ]
  },
  {
   "cell_type": "code",
   "execution_count": 0,
   "metadata": {
    "colab": {},
    "colab_type": "code",
    "id": "8HPCTATEE1zt"
   },
   "outputs": [],
   "source": [
    "df.loc['2015-05-31':'2015-08-31', 'c':'e'] #Ranges by label."
   ]
  },
  {
   "cell_type": "code",
   "execution_count": 0,
   "metadata": {
    "colab": {},
    "colab_type": "code",
    "id": "6XzXhuNlE1zu"
   },
   "outputs": [],
   "source": [
    "df.iloc[2:-3,2:5] #Ranges by number."
   ]
  },
  {
   "cell_type": "code",
   "execution_count": 0,
   "metadata": {
    "colab": {},
    "colab_type": "code",
    "id": "rFqIt40uE1zw"
   },
   "outputs": [],
   "source": [
    "# SQL-like queries for parsimonious row selection.\n",
    "# Experimental\n",
    "df.query('a > 1 and c <1')"
   ]
  },
  {
   "cell_type": "code",
   "execution_count": 0,
   "metadata": {
    "colab": {},
    "colab_type": "code",
    "id": "yZ7O13CzE1zx"
   },
   "outputs": [],
   "source": [
    "# Multi Index:\n",
    "dt_index = pd.date_range('2015-1-1', \n",
    "                        '2017-7-1', \n",
    "                        freq='m')\n",
    "df = pd.DataFrame(randn(30,5), index=dt_index)"
   ]
  },
  {
   "cell_type": "code",
   "execution_count": 0,
   "metadata": {
    "colab": {},
    "colab_type": "code",
    "id": "hdsJSMHRE1zy"
   },
   "outputs": [],
   "source": [
    "df['state'] = ['Alabama', 'Alaska' , 'Arizona'] * 10\n",
    "df.head()"
   ]
  },
  {
   "cell_type": "code",
   "execution_count": 0,
   "metadata": {
    "colab": {},
    "colab_type": "code",
    "id": "yk7NnSlqE1z2"
   },
   "outputs": [],
   "source": [
    "df = df.reset_index()\n",
    "df = df.set_index(['state', 'index'])\n",
    "df.head()"
   ]
  },
  {
   "cell_type": "code",
   "execution_count": 0,
   "metadata": {
    "colab": {},
    "colab_type": "code",
    "id": "fhS0myjQE1z5"
   },
   "outputs": [],
   "source": [
    "df.loc['Alabama'].head()"
   ]
  },
  {
   "cell_type": "code",
   "execution_count": 0,
   "metadata": {
    "colab": {},
    "colab_type": "code",
    "id": "gyCU9EWUE1z7"
   },
   "outputs": [],
   "source": [
    "df.loc['2015-01-31']  # Doesn't work."
   ]
  },
  {
   "cell_type": "code",
   "execution_count": 0,
   "metadata": {
    "colab": {},
    "colab_type": "code",
    "id": "bsZg9T7UE1z9"
   },
   "outputs": [],
   "source": [
    "df.loc[('Alabama', '2015-01-31')]  # Can do this."
   ]
  },
  {
   "cell_type": "code",
   "execution_count": 0,
   "metadata": {
    "colab": {},
    "colab_type": "code",
    "id": "oLVBdR2VE10A"
   },
   "outputs": [],
   "source": [
    "# Can also have multi-index in columns.\n",
    "df.reset_index().set_index(['index', 'state']).unstack().head()"
   ]
  },
  {
   "cell_type": "code",
   "execution_count": 0,
   "metadata": {
    "colab": {},
    "colab_type": "code",
    "id": "429_Bmt1E10C"
   },
   "outputs": [],
   "source": [
    "df.head()"
   ]
  },
  {
   "cell_type": "markdown",
   "metadata": {
    "colab_type": "text",
    "id": "JrfE2-KAE10E"
   },
   "source": [
    "## split-apply-combine"
   ]
  },
  {
   "cell_type": "code",
   "execution_count": 0,
   "metadata": {
    "colab": {},
    "colab_type": "code",
    "id": "gNF03LB7E10G"
   },
   "outputs": [],
   "source": [
    "df.groupby(level=1).mean().head()"
   ]
  },
  {
   "cell_type": "code",
   "execution_count": 0,
   "metadata": {
    "colab": {},
    "colab_type": "code",
    "id": "wlAfgUdGE10I"
   },
   "outputs": [],
   "source": [
    "df.groupby(level=0).mean().head()  # Groupby index"
   ]
  },
  {
   "cell_type": "code",
   "execution_count": 0,
   "metadata": {
    "colab": {},
    "colab_type": "code",
    "id": "gpu38GwLE10J"
   },
   "outputs": [],
   "source": [
    "# Groupby doesn't have to be on index.\n",
    "df.reset_index().groupby('state').mean().head()\n",
    "# 'state' could be a list of columns to group on."
   ]
  },
  {
   "cell_type": "code",
   "execution_count": 0,
   "metadata": {
    "colab": {},
    "colab_type": "code",
    "id": "H3Scn2IaE10K"
   },
   "outputs": [],
   "source": [
    "# Apply\n",
    "g = df.groupby(level=0)"
   ]
  },
  {
   "cell_type": "code",
   "execution_count": 0,
   "metadata": {
    "colab": {},
    "colab_type": "code",
    "id": "3yQpfdiiE10L"
   },
   "outputs": [],
   "source": [
    "# If one row for each index.\n",
    "g.aggregate(np.mean)"
   ]
  },
  {
   "cell_type": "code",
   "execution_count": 0,
   "metadata": {
    "colab": {},
    "colab_type": "code",
    "id": "NQ6jUxhAE10M"
   },
   "outputs": [],
   "source": [
    "# If same shape as original:\n",
    "g.transform(lambda x: (x - x.mean())/x.std()).head()"
   ]
  },
  {
   "cell_type": "markdown",
   "metadata": {
    "colab_type": "text",
    "id": "DQwx9duzE10O"
   },
   "source": [
    "## Reading and writing data"
   ]
  },
  {
   "cell_type": "code",
   "execution_count": 0,
   "metadata": {
    "colab": {},
    "colab_type": "code",
    "collapsed": true,
    "id": "lcWTTJJXE10P"
   },
   "outputs": [],
   "source": [
    "df.to_csv('saved_data.csv', delimiter='\\t')"
   ]
  },
  {
   "cell_type": "code",
   "execution_count": 0,
   "metadata": {
    "colab": {},
    "colab_type": "code",
    "collapsed": true,
    "id": "y1VCxBAHE10S"
   },
   "outputs": [],
   "source": [
    "read = pd.read_csv('saved_data.csv', delimiter='\\t')\n",
    "#TONS OF options for reading data"
   ]
  },
  {
   "cell_type": "markdown",
   "metadata": {
    "colab_type": "text",
    "id": "kPK5XVXjE10X"
   },
   "source": [
    "\"\"\"Other methods:\n",
    "pd.read_excel\n",
    "pd.read_sql\n",
    "pd.read_stata\n",
    "...\n",
    "\"\"\""
   ]
  },
  {
   "cell_type": "markdown",
   "metadata": {
    "colab_type": "text",
    "id": "4aCRsvMaE10Y"
   },
   "source": [
    "## Other very useful things\n",
    "\n",
    "join, concat and merge"
   ]
  },
  {
   "cell_type": "code",
   "execution_count": 0,
   "metadata": {
    "colab": {},
    "colab_type": "code",
    "id": "pyKxRSLOE10Y"
   },
   "outputs": [],
   "source": [
    "state_df = pd.DataFrame({'governor':['Robert Bentley',\n",
    "                                    'Bill Walker',\n",
    "                                    'Doug Ducey',\n",
    "                                    'Asa Hutchinson']}, \n",
    "                        index=['Alabama', 'Alaska', 'Arizona', 'Arkansas'])\n",
    "#Note merge is most useful when you want to merge on something other than the index.\n",
    "#Default is to merge on common column names.\n",
    "pd.merge(df.reset_index(), state_df, \n",
    "         left_on='state', right_index=True, how='right').tail()"
   ]
  },
  {
   "cell_type": "code",
   "execution_count": 0,
   "metadata": {
    "colab": {},
    "colab_type": "code",
    "id": "EJHjG7f9E10Z"
   },
   "outputs": [],
   "source": [
    "state_avg = df.groupby(level=0).mean()\n",
    "state_avg.head()"
   ]
  },
  {
   "cell_type": "code",
   "execution_count": 0,
   "metadata": {
    "colab": {},
    "colab_type": "code",
    "id": "s_cCkEwyE10b"
   },
   "outputs": [],
   "source": [
    "#Concat allows joining along the axes.\n",
    "pd.concat([state_avg, state_df], axis=1)"
   ]
  },
  {
   "cell_type": "code",
   "execution_count": 0,
   "metadata": {
    "colab": {},
    "colab_type": "code",
    "id": "4gY6DGizE10e"
   },
   "outputs": [],
   "source": [
    "#Join also works. Just like merge, but \n",
    "#default is to join on indexes.\n",
    "state_avg.join(state_df, how='right')"
   ]
  },
  {
   "cell_type": "markdown",
   "metadata": {
    "colab_type": "text",
    "id": "iLBuZR0rE10g"
   },
   "source": [
    "## Exploratory Data Analysis with Pandas"
   ]
  },
  {
   "cell_type": "code",
   "execution_count": 0,
   "metadata": {
    "colab": {},
    "colab_type": "code",
    "id": "Re7xHvktE10g"
   },
   "outputs": [],
   "source": [
    "%pylab inline"
   ]
  },
  {
   "cell_type": "code",
   "execution_count": 0,
   "metadata": {
    "colab": {},
    "colab_type": "code",
    "id": "1PBypUMgE10l"
   },
   "outputs": [],
   "source": [
    "df = pd.read_csv('https://s3-us-west-2.amazonaws.com/dsci/6002/data/playgolf.csv', delimiter='|' )\n",
    "df.head()"
   ]
  },
  {
   "cell_type": "markdown",
   "metadata": {
    "colab_type": "text",
    "id": "dL7gFXOEE10n"
   },
   "source": [
    "## Describe the continuous variables\n",
    "### This treats the Boolean Windy variable as a series of 0's and 1's"
   ]
  },
  {
   "cell_type": "code",
   "execution_count": 0,
   "metadata": {
    "colab": {},
    "colab_type": "code",
    "id": "-JA0A3AgE10o"
   },
   "outputs": [],
   "source": [
    "df.describe()"
   ]
  },
  {
   "cell_type": "markdown",
   "metadata": {
    "colab_type": "text",
    "id": "f5Wkw7a5E10p"
   },
   "source": [
    "Can see the general pattern of Temperature and Humidity and mean of a Boolean represents the percentage"
   ]
  },
  {
   "cell_type": "markdown",
   "metadata": {
    "colab_type": "text",
    "id": "I766nMoVE10p"
   },
   "source": [
    "### We can make use of df.plot() to produce simple graphs that calls on the more adjustable [Matplotlib](http://matplotlib.org/api/pyplot_api.html) library "
   ]
  },
  {
   "cell_type": "code",
   "execution_count": 0,
   "metadata": {
    "colab": {},
    "colab_type": "code",
    "id": "WgxoeUCIE10p",
    "scrolled": true
   },
   "outputs": [],
   "source": [
    "df.hist(['Temperature','Humidity'],bins=5)"
   ]
  },
  {
   "cell_type": "code",
   "execution_count": 0,
   "metadata": {
    "colab": {},
    "colab_type": "code",
    "id": "mnirZUMxE10t"
   },
   "outputs": [],
   "source": [
    "df[['Temperature','Humidity']].plot(kind='box')"
   ]
  },
  {
   "cell_type": "markdown",
   "metadata": {
    "colab_type": "text",
    "id": "3BCIgPAZE10u"
   },
   "source": [
    "### Scatterplots for examining bivariate relationships"
   ]
  },
  {
   "cell_type": "code",
   "execution_count": 0,
   "metadata": {
    "colab": {},
    "colab_type": "code",
    "id": "WcUvnsuBE10u",
    "scrolled": false
   },
   "outputs": [],
   "source": [
    "df.plot('Temperature', 'Humidity', kind='scatter');"
   ]
  },
  {
   "cell_type": "markdown",
   "metadata": {
    "colab_type": "text",
    "id": "xcGtdiBSE10x"
   },
   "source": [
    "## What about the categorical variables? Frequency tables and relative frequency tables"
   ]
  },
  {
   "cell_type": "markdown",
   "metadata": {
    "colab_type": "text",
    "id": "pPCp-wsfE10y"
   },
   "source": [
    "### Simply df.value_counts() gets you the frequencies"
   ]
  },
  {
   "cell_type": "code",
   "execution_count": 0,
   "metadata": {
    "colab": {},
    "colab_type": "code",
    "id": "UXHszA0GE10y"
   },
   "outputs": [],
   "source": [
    "df['Outlook'].value_counts()"
   ]
  },
  {
   "cell_type": "markdown",
   "metadata": {
    "colab_type": "text",
    "id": "p4zlO9_RE10z"
   },
   "source": [
    "### Using apply will get you the value counts for multiple columns at once"
   ]
  },
  {
   "cell_type": "code",
   "execution_count": 0,
   "metadata": {
    "colab": {},
    "colab_type": "code",
    "id": "lbdiyUNjE10z"
   },
   "outputs": [],
   "source": [
    "df[['Outlook','Result']].apply(lambda x: x.value_counts())"
   ]
  },
  {
   "cell_type": "markdown",
   "metadata": {
    "colab_type": "text",
    "id": "m-nszPGmE101"
   },
   "source": [
    "### Contingency Tables for looking at bivariate relationships between two categorical variables"
   ]
  },
  {
   "cell_type": "code",
   "execution_count": 0,
   "metadata": {
    "colab": {},
    "colab_type": "code",
    "id": "g2z8LJboE102"
   },
   "outputs": [],
   "source": [
    "pd.crosstab(df['Outlook'], df['Result'])"
   ]
  },
  {
   "cell_type": "markdown",
   "metadata": {
    "colab_type": "text",
    "id": "-oJh3hZtE107"
   },
   "source": [
    "### Often we want the row percentages"
   ]
  },
  {
   "cell_type": "code",
   "execution_count": 0,
   "metadata": {
    "colab": {},
    "colab_type": "code",
    "id": "IHVqIyleE108"
   },
   "outputs": [],
   "source": [
    "pd.crosstab(df['Outlook'], df['Result']).apply(lambda r: r/r.sum(), axis=1)"
   ]
  },
  {
   "cell_type": "markdown",
   "metadata": {
    "colab_type": "text",
    "id": "Jsr2gwniE109"
   },
   "source": [
    "### Or the column percentages"
   ]
  },
  {
   "cell_type": "code",
   "execution_count": 0,
   "metadata": {
    "colab": {},
    "colab_type": "code",
    "id": "n9-S-61RE10-"
   },
   "outputs": [],
   "source": [
    "pd.crosstab(df['Outlook'], df['Result']).apply(lambda c: c/c.sum(), axis=0)"
   ]
  },
  {
   "cell_type": "markdown",
   "metadata": {
    "colab_type": "text",
    "collapsed": true,
    "id": "F6rLTSx4E11A"
   },
   "source": [
    "## Lab Exercises [GRADED]\n",
    "\n",
    "In this scenario, you are a data scientist at [Bay Area Bike Share](https://www.kaggle.com/benhamner/sf-bay-area-bike-share#trip.csv). Your task\n",
    "is to provide insights on bike user activity and behavior to the products team. \n",
    "\n",
    "\n",
    "1. Load the `trips` table into a dataframe. \n",
    "   \n",
    "   Make 4 extra columns from the `start_date` column (We will use these in later questions):\n",
    "   - `month` would contain only the month component\n",
    "   - `dayofweek` would indicate what day of the week the date is\n",
    "   - `date` would contain only the date component \n",
    "   - `hour` would only contain the hour component\n",
    "   - [Hint to deal with datetime objects in pandas](http://stackoverflow.com/questions/25129144/pandas-return-hour-from-datetime-column-directly)\n",
    "\n",
    "2. Group the bike rides by `month` and count the number of users per month. Plot the number of users for each month. \n",
    "   What do you observe? Provide a likely explanation to your observation. Real life data can often be messy/incomplete\n",
    "   and cursory EDA is often able to reveal that.\n",
    "   \n",
    "3. Plot the daily user count from September to December. Mark the `mean` and `mean +/- 1.5 * Standard Deviation` as \n",
    "   horizontal lines on the plot. This would help you identify the outliers in your data. Describe your observations. \n",
    "   \n",
    "   ![image](https://github.com/dannypaz/class/blob/master/dsci-6002/week1/1-3_EDA/images/timeseries.png?raw=1)\n",
    "\n",
    "4. Plot the distribution of the daily user counts for all months as a histogram. Comment on the distribution you see and explain why the distribution might be shaped as such. \n",
    "    \n",
    "   <img src=\"https://github.com/dannypaz/class/blob/master/dsci-6002/week1/1-3_EDA/images/hist.png?raw=1\" width=\"500\">\n",
    "  \n",
    "5. Now we are going to explore hourly trends of user activity. Group the bike rides by `date` and `hour` and count \n",
    "   the number of rides in the given hour on the given date. Make a \n",
    "   [boxplot](http://blog.bharatbhole.com/creating-boxplots-with-matplotlib/) of the hours in the day **(x)** against\n",
    "   the number of users **(y)** in that given hour. \n",
    "   \n",
    "6. Someone from the analytics team made a line plot (_right_) that he claims is showing the same information as your\n",
    "   boxplot (_left_). What information can you gain from the boxplot that is missing in the line plot?\n",
    "   \n",
    "   ![image](https://github.com/dannypaz/class/blob/master/dsci-6002/week1/1-3_EDA/images/q1_pair.png?raw=1)\n",
    "\n",
    "7. ** Extra Credit **: Replot the boxplot in `6.` after binning your data into weekday and weekend. Describe the differences you observe between hour user activity between weekday and weekend? \n",
    "    "
   ]
  },
  {
   "cell_type": "markdown",
   "metadata": {
    "colab_type": "text",
    "id": "MsFnjzCvE11A"
   },
   "source": [
    "# Research for tomorrow:\n",
    "## What is Anscombe's Quartet?\n",
    "### Be prepared to explain it tomorrow at the beginning of class."
   ]
  }
 ],
 "metadata": {
  "anaconda-cloud": {},
  "colab": {
   "name": "DSCI6002-1.3-Lab.ipynb",
   "provenance": []
  },
  "kernelspec": {
   "display_name": "Python 3",
   "language": "python",
   "name": "python3"
  },
  "language_info": {
   "codemirror_mode": {
    "name": "ipython",
    "version": 3
   },
   "file_extension": ".py",
   "mimetype": "text/x-python",
   "name": "python",
   "nbconvert_exporter": "python",
   "pygments_lexer": "ipython3",
   "version": "3.7.4"
  }
 },
 "nbformat": 4,
 "nbformat_minor": 1
}
